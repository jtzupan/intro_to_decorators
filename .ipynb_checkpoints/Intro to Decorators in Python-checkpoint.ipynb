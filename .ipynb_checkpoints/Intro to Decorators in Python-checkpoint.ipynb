{
 "cells": [
  {
   "cell_type": "markdown",
   "metadata": {},
   "source": [
    "# Decorators in Python"
   ]
  },
  {
   "cell_type": "markdown",
   "metadata": {},
   "source": [
    "### Function Basics"
   ]
  },
  {
   "cell_type": "markdown",
   "metadata": {},
   "source": [
    "The definition of a function in Python is very simple- it is a structure for abstracting a block of code that accepts input, does something, then returns an output."
   ]
  },
  {
   "cell_type": "code",
   "execution_count": 1,
   "metadata": {
    "collapsed": false
   },
   "outputs": [
    {
     "data": {
      "text/plain": [
       "'Hello tyler'"
      ]
     },
     "execution_count": 1,
     "metadata": {},
     "output_type": "execute_result"
    }
   ],
   "source": [
    "def hello(name):\n",
    "    return 'Hello {}'.format(name)\n",
    "\n",
    "hello('tyler')"
   ]
  },
  {
   "cell_type": "markdown",
   "metadata": {},
   "source": [
    "Python also allows for first class functions (some other languages make this a requirement while others do not allow it at all).  This simply means that in Python a function can be passed as an argument to a function, stored as a variable or returned from a function."
   ]
  },
  {
   "cell_type": "code",
   "execution_count": 20,
   "metadata": {
    "collapsed": false
   },
   "outputs": [
    {
     "data": {
      "text/plain": [
       "[2, 3, 4, 5]"
      ]
     },
     "execution_count": 20,
     "metadata": {},
     "output_type": "execute_result"
    }
   ],
   "source": [
    "#example of passing an function as an argument\n",
    "\n",
    "#first I define the function add1\n",
    "def add1(number):\n",
    "    'adds one to number'\n",
    "    return 1 + number\n",
    "\n",
    "#then I pass it as the first argument to the map function\n",
    "map(add1, [1,2,3,4])"
   ]
  },
  {
   "cell_type": "markdown",
   "metadata": {},
   "source": [
    "Once a function is defined, the name of the function refers to a function *instance*. Python also has a type called *function*.  As mentioned aboved, Python allows functions to be stored as variables.  Finally, we can also return functions from other functions"
   ]
  },
  {
   "cell_type": "code",
   "execution_count": 11,
   "metadata": {
    "collapsed": false
   },
   "outputs": [
    {
     "name": "stdout",
     "output_type": "stream",
     "text": [
      "<function hello at 0x10450d6e0>\n",
      "<function add1 at 0x10473a938>\n",
      "<type 'function'>\n",
      "<type 'function'>\n",
      "<function hello at 0x10450d6e0>\n",
      "True\n",
      "add1more returns <function add1 at 0x10473a938>\n"
     ]
    }
   ],
   "source": [
    "print hello\n",
    "print add1\n",
    "\n",
    "print type(hello)\n",
    "print type(add1)\n",
    "\n",
    "hello_again = hello\n",
    "print hello_again\n",
    "\n",
    "print hello == hello_again\n",
    "\n",
    "def add1more():\n",
    "    return add1\n",
    "\n",
    "print 'add1more returns {}'.format(add1more())"
   ]
  },
  {
   "cell_type": "markdown",
   "metadata": {},
   "source": [
    "In Python, objects are callable, which means they can be invoked.  To invoke a function in Python, all we have to do is add the () after the function name."
   ]
  },
  {
   "cell_type": "code",
   "execution_count": 16,
   "metadata": {
    "collapsed": false
   },
   "outputs": [
    {
     "name": "stdout",
     "output_type": "stream",
     "text": [
      "True\n"
     ]
    }
   ],
   "source": [
    "print callable(add1)"
   ]
  },
  {
   "cell_type": "markdown",
   "metadata": {},
   "source": [
    "### Functions Attributes"
   ]
  },
  {
   "cell_type": "markdown",
   "metadata": {},
   "source": [
    "Instances of the class function have attributes.  We can introspect these attributes using the built in dir() function."
   ]
  },
  {
   "cell_type": "code",
   "execution_count": 17,
   "metadata": {
    "collapsed": false
   },
   "outputs": [
    {
     "data": {
      "text/plain": [
       "['__call__',\n",
       " '__class__',\n",
       " '__closure__',\n",
       " '__code__',\n",
       " '__defaults__',\n",
       " '__delattr__',\n",
       " '__dict__',\n",
       " '__doc__',\n",
       " '__format__',\n",
       " '__get__',\n",
       " '__getattribute__',\n",
       " '__globals__',\n",
       " '__hash__',\n",
       " '__init__',\n",
       " '__module__',\n",
       " '__name__',\n",
       " '__new__',\n",
       " '__reduce__',\n",
       " '__reduce_ex__',\n",
       " '__repr__',\n",
       " '__setattr__',\n",
       " '__sizeof__',\n",
       " '__str__',\n",
       " '__subclasshook__',\n",
       " 'func_closure',\n",
       " 'func_code',\n",
       " 'func_defaults',\n",
       " 'func_dict',\n",
       " 'func_doc',\n",
       " 'func_globals',\n",
       " 'func_name']"
      ]
     },
     "execution_count": 17,
     "metadata": {},
     "output_type": "execute_result"
    }
   ],
   "source": [
    "dir(add1)"
   ]
  },
  {
   "cell_type": "code",
   "execution_count": 22,
   "metadata": {
    "collapsed": false
   },
   "outputs": [
    {
     "name": "stdout",
     "output_type": "stream",
     "text": [
      "add1\n",
      "adds one to number\n"
     ]
    }
   ],
   "source": [
    "# we can call these dunder methods to inspect our function\n",
    "print add1.__name__\n",
    "print add1.__doc__"
   ]
  },
  {
   "cell_type": "code",
   "execution_count": 24,
   "metadata": {
    "collapsed": false
   },
   "outputs": [
    {
     "name": "stdout",
     "output_type": "stream",
     "text": [
      "adds one to number\n"
     ]
    }
   ],
   "source": [
    "#these methods also follow the functions when it is assigned to a variable\n",
    "adder = add1\n",
    "print adder.__doc__"
   ]
  },
  {
   "cell_type": "markdown",
   "metadata": {
    "collapsed": true
   },
   "source": [
    "### Function Scope"
   ]
  },
  {
   "cell_type": "markdown",
   "metadata": {},
   "source": [
    "Functions are defined in a *scope*.  Functions have access to any variables that are in the function, or that were in scope when the function was defined.  In variable created within a function is considered a *local* variable.  If it is not returned by the function, it will be garbage collected once the function runs, and will no longer be accessible."
   ]
  },
  {
   "cell_type": "code",
   "execution_count": 2,
   "metadata": {
    "collapsed": false
   },
   "outputs": [
    {
     "ename": "NameError",
     "evalue": "name 'a' is not defined",
     "output_type": "error",
     "traceback": [
      "\u001b[0;31m---------------------------------------------------------------------------\u001b[0m",
      "\u001b[0;31mNameError\u001b[0m                                 Traceback (most recent call last)",
      "\u001b[0;32m<ipython-input-2-1fb2921c36d6>\u001b[0m in \u001b[0;36m<module>\u001b[0;34m()\u001b[0m\n\u001b[1;32m      3\u001b[0m     \u001b[0;32mreturn\u001b[0m \u001b[0;34m'Cant access var a'\u001b[0m\u001b[0;34m\u001b[0m\u001b[0m\n\u001b[1;32m      4\u001b[0m \u001b[0;34m\u001b[0m\u001b[0m\n\u001b[0;32m----> 5\u001b[0;31m \u001b[0;32mprint\u001b[0m \u001b[0ma\u001b[0m\u001b[0;34m\u001b[0m\u001b[0m\n\u001b[0m",
      "\u001b[0;31mNameError\u001b[0m: name 'a' is not defined"
     ]
    }
   ],
   "source": [
    "def func1():\n",
    "    a = 1\n",
    "    return 'Cant access var a'\n",
    "\n",
    "print a"
   ]
  },
  {
   "cell_type": "code",
   "execution_count": 4,
   "metadata": {
    "collapsed": false
   },
   "outputs": [
    {
     "name": "stdout",
     "output_type": "stream",
     "text": [
      "{'a': 1, 'b': 2}\n"
     ]
    }
   ],
   "source": [
    "#using the built in function locals() to view the function's local variables\n",
    "\n",
    "def local():\n",
    "    a = 1\n",
    "    b = 2\n",
    "    print locals()\n",
    "    \n",
    "local()"
   ]
  },
  {
   "cell_type": "markdown",
   "metadata": {},
   "source": [
    "### Nested Functions"
   ]
  },
  {
   "cell_type": "markdown",
   "metadata": {},
   "source": [
    "Functions can also be nested.  This means that a function can invoke another function contained within the outer function."
   ]
  },
  {
   "cell_type": "code",
   "execution_count": 5,
   "metadata": {
    "collapsed": false
   },
   "outputs": [
    {
     "name": "stdout",
     "output_type": "stream",
     "text": [
      "5\n"
     ]
    },
    {
     "data": {
      "text/plain": [
       "6"
      ]
     },
     "execution_count": 5,
     "metadata": {},
     "output_type": "execute_result"
    }
   ],
   "source": [
    "def outer():\n",
    "    def inner(x, y):\n",
    "        return x+y\n",
    "    return inner\n",
    "\n",
    "#outer is invoked when this cell is ran (or when a module is loaded)\n",
    "#inner will not be invoked until outer() is called"
   ]
  },
  {
   "cell_type": "code",
   "execution_count": null,
   "metadata": {
    "collapsed": true
   },
   "outputs": [],
   "source": [
    "print outer()(2,3)\n",
    "\n",
    "outer = outer()\n",
    "outer(2,4)\n"
   ]
  },
  {
   "cell_type": "markdown",
   "metadata": {},
   "source": [
    "Nested functions call for nested scope.  A nested function has read/write access to any global or built-in variable.  However, it has read only access to any variable declared in the scope of the outer function"
   ]
  },
  {
   "cell_type": "markdown",
   "metadata": {},
   "source": [
    "## Function Parameters"
   ]
  },
  {
   "cell_type": "markdown",
   "metadata": {},
   "source": [
    "Functions support 4 different type of parameters:\n",
    "* Normal Parameters - have a name and a position\n",
    "* Keyword Parameters - have a name\n",
    "* Variable Parameters - indicated by \\*, have a position\n",
    "* Variable Keyword Parameters - indicated by a \\**, have name\n",
    "\n",
    "Technically parameters are the variables that a function accepts, while an argument is the variable passed to a function when it is called"
   ]
  },
  {
   "cell_type": "code",
   "execution_count": 7,
   "metadata": {
    "collapsed": false
   },
   "outputs": [
    {
     "data": {
      "text/plain": [
       "12"
      ]
     },
     "execution_count": 7,
     "metadata": {},
     "output_type": "execute_result"
    }
   ],
   "source": [
    "# x and y are the parameters for the function\n",
    "def multiply(x, y):\n",
    "    return x * y\n",
    "\n",
    "a=3\n",
    "b=4\n",
    "# a and b are the arguments\n",
    "multiply(a, b)"
   ]
  },
  {
   "cell_type": "markdown",
   "metadata": {},
   "source": [
    "### Normal and Keyword Parameters"
   ]
  },
  {
   "cell_type": "markdown",
   "metadata": {},
   "source": [
    "There are two main differences between normal and keyword parameters.  They are: normal parameters are required and normal parameters must be passed in a specific order."
   ]
  },
  {
   "cell_type": "code",
   "execution_count": 9,
   "metadata": {
    "collapsed": false
   },
   "outputs": [
    {
     "name": "stdout",
     "output_type": "stream",
     "text": [
      "6\n",
      "6\n",
      "16\n"
     ]
    }
   ],
   "source": [
    "def f1(a, b, c):\n",
    "    return a + b + c\n",
    "\n",
    "def f2(x=1, y=2, z=3):\n",
    "    return x + y + z\n",
    "\n",
    "print f1(1,2,3)\n",
    "print f2()\n",
    "print f2(x=4, z=10)"
   ]
  },
  {
   "cell_type": "markdown",
   "metadata": {},
   "source": [
    "Variable parameters allow for a function to take an arbitrary number of position based arguments."
   ]
  },
  {
   "cell_type": "code",
   "execution_count": 13,
   "metadata": {
    "collapsed": false
   },
   "outputs": [
    {
     "name": "stdout",
     "output_type": "stream",
     "text": [
      "<type 'str'> ('one', 1, [3])\n",
      "<type 'int'> ('one', 1, [3])\n",
      "<type 'list'> ('one', 1, [3])\n",
      "None\n",
      "None\n"
     ]
    }
   ],
   "source": [
    "def argType(*args):\n",
    "    for i in args:\n",
    "        print type(i), args\n",
    "        \n",
    "print argType('one', 1, [3])\n",
    "print argType()"
   ]
  },
  {
   "cell_type": "code",
   "execution_count": null,
   "metadata": {
    "collapsed": true
   },
   "outputs": [],
   "source": []
  },
  {
   "cell_type": "code",
   "execution_count": null,
   "metadata": {
    "collapsed": true
   },
   "outputs": [],
   "source": []
  },
  {
   "cell_type": "code",
   "execution_count": null,
   "metadata": {
    "collapsed": true
   },
   "outputs": [],
   "source": []
  }
 ],
 "metadata": {
  "kernelspec": {
   "display_name": "Python 2",
   "language": "python",
   "name": "python2"
  },
  "language_info": {
   "codemirror_mode": {
    "name": "ipython",
    "version": 2
   },
   "file_extension": ".py",
   "mimetype": "text/x-python",
   "name": "python",
   "nbconvert_exporter": "python",
   "pygments_lexer": "ipython2",
   "version": "2.7.12"
  }
 },
 "nbformat": 4,
 "nbformat_minor": 1
}
