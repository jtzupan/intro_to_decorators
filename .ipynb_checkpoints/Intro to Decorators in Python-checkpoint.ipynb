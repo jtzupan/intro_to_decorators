{
 "cells": [
  {
   "cell_type": "markdown",
   "metadata": {},
   "source": [
    "# Decorators in Python"
   ]
  },
  {
   "cell_type": "markdown",
   "metadata": {},
   "source": [
    "### Function Basics"
   ]
  },
  {
   "cell_type": "markdown",
   "metadata": {},
   "source": [
    "The definition of a function in Python is very simple- it is a structure for abstracting a block of code that accepts input, does something, then returns an output."
   ]
  },
  {
   "cell_type": "code",
   "execution_count": 1,
   "metadata": {
    "collapsed": false
   },
   "outputs": [
    {
     "data": {
      "text/plain": [
       "'Hello tyler'"
      ]
     },
     "execution_count": 1,
     "metadata": {},
     "output_type": "execute_result"
    }
   ],
   "source": [
    "def hello(name):\n",
    "    return 'Hello {}'.format(name)\n",
    "\n",
    "hello('tyler')"
   ]
  },
  {
   "cell_type": "markdown",
   "metadata": {},
   "source": [
    "Python also allows for first class functions (some other languages make this a requirement while others do not allow it at all).  This simply means that in Python a function can be passed as an argument to a function, stored as a variable or returned from a function."
   ]
  },
  {
   "cell_type": "code",
   "execution_count": 20,
   "metadata": {
    "collapsed": false
   },
   "outputs": [
    {
     "data": {
      "text/plain": [
       "[2, 3, 4, 5]"
      ]
     },
     "execution_count": 20,
     "metadata": {},
     "output_type": "execute_result"
    }
   ],
   "source": [
    "#example of passing an function as an argument\n",
    "\n",
    "#first I define the function add1\n",
    "def add1(number):\n",
    "    'adds one to number'\n",
    "    return 1 + number\n",
    "\n",
    "#then I pass it as the first argument to the map function\n",
    "map(add1, [1,2,3,4])"
   ]
  },
  {
   "cell_type": "markdown",
   "metadata": {},
   "source": [
    "Once a function is defined, the name of the function refers to a function *instance*. Python also has a type called *function*.  As mentioned aboved, Python allows functions to be stored as variables.  Finally, we can also return functions from other functions"
   ]
  },
  {
   "cell_type": "code",
   "execution_count": 11,
   "metadata": {
    "collapsed": false
   },
   "outputs": [
    {
     "name": "stdout",
     "output_type": "stream",
     "text": [
      "<function hello at 0x10450d6e0>\n",
      "<function add1 at 0x10473a938>\n",
      "<type 'function'>\n",
      "<type 'function'>\n",
      "<function hello at 0x10450d6e0>\n",
      "True\n",
      "add1more returns <function add1 at 0x10473a938>\n"
     ]
    }
   ],
   "source": [
    "print hello\n",
    "print add1\n",
    "\n",
    "print type(hello)\n",
    "print type(add1)\n",
    "\n",
    "hello_again = hello\n",
    "print hello_again\n",
    "\n",
    "print hello == hello_again\n",
    "\n",
    "def add1more():\n",
    "    return add1\n",
    "\n",
    "print 'add1more returns {}'.format(add1more())"
   ]
  },
  {
   "cell_type": "markdown",
   "metadata": {},
   "source": [
    "In Python, objects are callable, which means they can be invoked.  To invoke a function in Python, all we have to do is add the () after the function name."
   ]
  },
  {
   "cell_type": "code",
   "execution_count": 16,
   "metadata": {
    "collapsed": false
   },
   "outputs": [
    {
     "name": "stdout",
     "output_type": "stream",
     "text": [
      "True\n"
     ]
    }
   ],
   "source": [
    "print callable(add1)"
   ]
  },
  {
   "cell_type": "markdown",
   "metadata": {},
   "source": [
    "### Functions Attributes"
   ]
  },
  {
   "cell_type": "markdown",
   "metadata": {},
   "source": [
    "Instances of the class function have attributes.  We can introspect these attributes using the built in dir() function."
   ]
  },
  {
   "cell_type": "code",
   "execution_count": 17,
   "metadata": {
    "collapsed": false
   },
   "outputs": [
    {
     "data": {
      "text/plain": [
       "['__call__',\n",
       " '__class__',\n",
       " '__closure__',\n",
       " '__code__',\n",
       " '__defaults__',\n",
       " '__delattr__',\n",
       " '__dict__',\n",
       " '__doc__',\n",
       " '__format__',\n",
       " '__get__',\n",
       " '__getattribute__',\n",
       " '__globals__',\n",
       " '__hash__',\n",
       " '__init__',\n",
       " '__module__',\n",
       " '__name__',\n",
       " '__new__',\n",
       " '__reduce__',\n",
       " '__reduce_ex__',\n",
       " '__repr__',\n",
       " '__setattr__',\n",
       " '__sizeof__',\n",
       " '__str__',\n",
       " '__subclasshook__',\n",
       " 'func_closure',\n",
       " 'func_code',\n",
       " 'func_defaults',\n",
       " 'func_dict',\n",
       " 'func_doc',\n",
       " 'func_globals',\n",
       " 'func_name']"
      ]
     },
     "execution_count": 17,
     "metadata": {},
     "output_type": "execute_result"
    }
   ],
   "source": [
    "dir(add1)"
   ]
  },
  {
   "cell_type": "code",
   "execution_count": 22,
   "metadata": {
    "collapsed": false
   },
   "outputs": [
    {
     "name": "stdout",
     "output_type": "stream",
     "text": [
      "add1\n",
      "adds one to number\n"
     ]
    }
   ],
   "source": [
    "# we can call these dunder methods to inspect our function\n",
    "print add1.__name__\n",
    "print add1.__doc__"
   ]
  },
  {
   "cell_type": "code",
   "execution_count": 24,
   "metadata": {
    "collapsed": false
   },
   "outputs": [
    {
     "name": "stdout",
     "output_type": "stream",
     "text": [
      "adds one to number\n"
     ]
    }
   ],
   "source": [
    "#these methods also follow the functions when it is assigned to a variable\n",
    "adder = add1\n",
    "print adder.__doc__"
   ]
  },
  {
   "cell_type": "markdown",
   "metadata": {
    "collapsed": true
   },
   "source": [
    "### Function Scope"
   ]
  },
  {
   "cell_type": "markdown",
   "metadata": {},
   "source": [
    "Functions are defined in a *scope*.  Functions have access to any variables that are in the function, or that were in scope when the function was defined.  In variable created within a function is considered a *local* variable.  If it is not returned by the function, it will be garbage collected once the function runs, and will no longer be accessible."
   ]
  },
  {
   "cell_type": "code",
   "execution_count": 2,
   "metadata": {
    "collapsed": false
   },
   "outputs": [
    {
     "ename": "NameError",
     "evalue": "name 'a' is not defined",
     "output_type": "error",
     "traceback": [
      "\u001b[0;31m---------------------------------------------------------------------------\u001b[0m",
      "\u001b[0;31mNameError\u001b[0m                                 Traceback (most recent call last)",
      "\u001b[0;32m<ipython-input-2-1fb2921c36d6>\u001b[0m in \u001b[0;36m<module>\u001b[0;34m()\u001b[0m\n\u001b[1;32m      3\u001b[0m     \u001b[0;32mreturn\u001b[0m \u001b[0;34m'Cant access var a'\u001b[0m\u001b[0;34m\u001b[0m\u001b[0m\n\u001b[1;32m      4\u001b[0m \u001b[0;34m\u001b[0m\u001b[0m\n\u001b[0;32m----> 5\u001b[0;31m \u001b[0;32mprint\u001b[0m \u001b[0ma\u001b[0m\u001b[0;34m\u001b[0m\u001b[0m\n\u001b[0m",
      "\u001b[0;31mNameError\u001b[0m: name 'a' is not defined"
     ]
    }
   ],
   "source": [
    "def func1():\n",
    "    a = 1\n",
    "    return 'Cant access var a'\n",
    "\n",
    "print a"
   ]
  },
  {
   "cell_type": "code",
   "execution_count": 4,
   "metadata": {
    "collapsed": false
   },
   "outputs": [
    {
     "name": "stdout",
     "output_type": "stream",
     "text": [
      "{'a': 1, 'b': 2}\n"
     ]
    }
   ],
   "source": [
    "#using the built in function locals() to view the function's local variables\n",
    "\n",
    "def local():\n",
    "    a = 1\n",
    "    b = 2\n",
    "    print locals()\n",
    "    \n",
    "local()"
   ]
  },
  {
   "cell_type": "markdown",
   "metadata": {},
   "source": [
    "### Nested Functions"
   ]
  },
  {
   "cell_type": "markdown",
   "metadata": {},
   "source": [
    "Functions can also be nested.  This means that a function can invoke another function contained within the outer function."
   ]
  },
  {
   "cell_type": "code",
   "execution_count": 5,
   "metadata": {
    "collapsed": false
   },
   "outputs": [
    {
     "name": "stdout",
     "output_type": "stream",
     "text": [
      "5\n"
     ]
    },
    {
     "data": {
      "text/plain": [
       "6"
      ]
     },
     "execution_count": 5,
     "metadata": {},
     "output_type": "execute_result"
    }
   ],
   "source": [
    "def outer():\n",
    "    def inner(x, y):\n",
    "        return x+y\n",
    "    return inner\n",
    "\n",
    "#outer is invoked when this cell is ran (or when a module is loaded)\n",
    "#inner will not be invoked until outer() is called"
   ]
  },
  {
   "cell_type": "code",
   "execution_count": null,
   "metadata": {
    "collapsed": true
   },
   "outputs": [],
   "source": [
    "print outer()(2,3)\n",
    "\n",
    "outer = outer()\n",
    "outer(2,4)\n"
   ]
  },
  {
   "cell_type": "markdown",
   "metadata": {},
   "source": [
    "Nested functions call for nested scope.  A nested function has read/write access to any global or built-in variable.  However, it has read only access to any variable declared in the scope of the outer function"
   ]
  },
  {
   "cell_type": "markdown",
   "metadata": {},
   "source": [
    "## Function Parameters"
   ]
  },
  {
   "cell_type": "markdown",
   "metadata": {},
   "source": [
    "Functions support 4 different type of parameters:\n",
    "* Normal Parameters - have a name and a position\n",
    "* Keyword Parameters - have a name\n",
    "* Variable Parameters - indicated by \\*, have a position\n",
    "* Variable Keyword Parameters - indicated by a \\**, have name\n",
    "\n",
    "Technically parameters are the variables that a function accepts, while an argument is the variable passed to a function when it is called"
   ]
  },
  {
   "cell_type": "code",
   "execution_count": 7,
   "metadata": {
    "collapsed": false
   },
   "outputs": [
    {
     "data": {
      "text/plain": [
       "12"
      ]
     },
     "execution_count": 7,
     "metadata": {},
     "output_type": "execute_result"
    }
   ],
   "source": [
    "# x and y are the parameters for the function\n",
    "def multiply(x, y):\n",
    "    return x * y\n",
    "\n",
    "a=3\n",
    "b=4\n",
    "# a and b are the arguments\n",
    "multiply(a, b)"
   ]
  },
  {
   "cell_type": "markdown",
   "metadata": {},
   "source": [
    "### Normal and Keyword Parameters"
   ]
  },
  {
   "cell_type": "markdown",
   "metadata": {},
   "source": [
    "There are two main differences between normal and keyword parameters.  They are: normal parameters are required and normal parameters must be passed in a specific order."
   ]
  },
  {
   "cell_type": "code",
   "execution_count": 9,
   "metadata": {
    "collapsed": false
   },
   "outputs": [
    {
     "name": "stdout",
     "output_type": "stream",
     "text": [
      "6\n",
      "6\n",
      "16\n"
     ]
    }
   ],
   "source": [
    "def f1(a, b, c):\n",
    "    return a + b + c\n",
    "\n",
    "def f2(x=1, y=2, z=3):\n",
    "    return x + y + z\n",
    "\n",
    "print f1(1,2,3)\n",
    "print f2()\n",
    "print f2(x=4, z=10)"
   ]
  },
  {
   "cell_type": "markdown",
   "metadata": {},
   "source": [
    "Variable parameters allow for a function to take an arbitrary number of position based arguments."
   ]
  },
  {
   "cell_type": "code",
   "execution_count": 13,
   "metadata": {
    "collapsed": false
   },
   "outputs": [
    {
     "name": "stdout",
     "output_type": "stream",
     "text": [
      "<type 'str'> ('one', 1, [3])\n",
      "<type 'int'> ('one', 1, [3])\n",
      "<type 'list'> ('one', 1, [3])\n",
      "None\n",
      "None\n"
     ]
    }
   ],
   "source": [
    "def argType(*args):\n",
    "    for i in args:\n",
    "        print type(i), args\n",
    "        \n",
    "print argType('one', 1, [3])\n",
    "print argType()"
   ]
  },
  {
   "cell_type": "markdown",
   "metadata": {
    "collapsed": true
   },
   "source": [
    "### The * Operator"
   ]
  },
  {
   "cell_type": "markdown",
   "metadata": {
    "collapsed": true
   },
   "source": [
    "In Python, the * is used to perform many different functions passed on the context in which it is used.  It can mean:\n",
    "* apply multiplication ( 4 * 2)\n",
    "* apply a power operator (4 ** 2)\n",
    "* mark variable parameters\n",
    "* flatten argument sequences, the *splat* operator\n",
    "* mark keyword variable arguments\n",
    "* flatten keyword argument dictionaries, the *splat* operator\n",
    "\n",
    "From this list we will next discuss the splat operator.  The splat operator allows you to deconstruct a list without explicitely calling out each variable in the index."
   ]
  },
  {
   "cell_type": "code",
   "execution_count": 2,
   "metadata": {
    "collapsed": false
   },
   "outputs": [],
   "source": [
    "def add3(a, b, c):\n",
    "    return a + b + c"
   ]
  },
  {
   "cell_type": "code",
   "execution_count": 3,
   "metadata": {
    "collapsed": false
   },
   "outputs": [
    {
     "ename": "TypeError",
     "evalue": "add3() takes exactly 3 arguments (1 given)",
     "output_type": "error",
     "traceback": [
      "\u001b[0;31m---------------------------------------------------------------------------\u001b[0m",
      "\u001b[0;31mTypeError\u001b[0m                                 Traceback (most recent call last)",
      "\u001b[0;32m<ipython-input-3-2713cea068fc>\u001b[0m in \u001b[0;36m<module>\u001b[0;34m()\u001b[0m\n\u001b[1;32m      1\u001b[0m \u001b[0mseq\u001b[0m \u001b[0;34m=\u001b[0m \u001b[0;34m[\u001b[0m\u001b[0;36m1\u001b[0m\u001b[0;34m,\u001b[0m\u001b[0;36m2\u001b[0m\u001b[0;34m,\u001b[0m\u001b[0;36m3\u001b[0m\u001b[0;34m]\u001b[0m\u001b[0;34m\u001b[0m\u001b[0m\n\u001b[1;32m      2\u001b[0m \u001b[0;34m\u001b[0m\u001b[0m\n\u001b[0;32m----> 3\u001b[0;31m \u001b[0madd3\u001b[0m\u001b[0;34m(\u001b[0m\u001b[0mseq\u001b[0m\u001b[0;34m)\u001b[0m\u001b[0;34m\u001b[0m\u001b[0m\n\u001b[0m",
      "\u001b[0;31mTypeError\u001b[0m: add3() takes exactly 3 arguments (1 given)"
     ]
    }
   ],
   "source": [
    "seq = [1,2,3]\n",
    "\n",
    "add3(seq)"
   ]
  },
  {
   "cell_type": "code",
   "execution_count": 4,
   "metadata": {
    "collapsed": false
   },
   "outputs": [
    {
     "data": {
      "text/plain": [
       "6"
      ]
     },
     "execution_count": 4,
     "metadata": {},
     "output_type": "execute_result"
    }
   ],
   "source": [
    "add3(*seq)"
   ]
  },
  {
   "cell_type": "markdown",
   "metadata": {},
   "source": [
    "### Variable Keyword Parameters"
   ]
  },
  {
   "cell_type": "markdown",
   "metadata": {},
   "source": [
    "Python also allows *variable keyword parameters*.  When the ** operator is used in a parameter, that parameter will accept any number of keyword arguments."
   ]
  },
  {
   "cell_type": "code",
   "execution_count": 7,
   "metadata": {
    "collapsed": true
   },
   "outputs": [],
   "source": [
    "def demo_kwargs(**kwargs):\n",
    "    return type(kwargs), kwargs"
   ]
  },
  {
   "cell_type": "code",
   "execution_count": 8,
   "metadata": {
    "collapsed": false
   },
   "outputs": [
    {
     "name": "stdout",
     "output_type": "stream",
     "text": [
      "(<type 'dict'>, {'a': 1, 'c': 3, 'b': 2})\n",
      "(<type 'dict'>, {'a': 100})\n"
     ]
    }
   ],
   "source": [
    "print demo_kwargs(a=1, b=2, c=3)\n",
    "print demo_kwargs(a=100)"
   ]
  },
  {
   "cell_type": "markdown",
   "metadata": {
    "collapsed": true
   },
   "source": [
    "### Closures"
   ]
  },
  {
   "cell_type": "markdown",
   "metadata": {
    "collapsed": true
   },
   "source": [
    "In Python, functions can return functions.  When a inner function is returned, it is considered 'closed over', or a closure.  It has access to any variables that were in scope when the function was defined."
   ]
  },
  {
   "cell_type": "code",
   "execution_count": 1,
   "metadata": {
    "collapsed": true
   },
   "outputs": [],
   "source": [
    "def adder(num):\n",
    "    def add_again(x):\n",
    "        return num + x\n",
    "    return add_again"
   ]
  },
  {
   "cell_type": "code",
   "execution_count": 2,
   "metadata": {
    "collapsed": false
   },
   "outputs": [
    {
     "data": {
      "text/plain": [
       "102"
      ]
     },
     "execution_count": 2,
     "metadata": {},
     "output_type": "execute_result"
    }
   ],
   "source": [
    "f1 = adder(2)\n",
    "f1(100)"
   ]
  },
  {
   "cell_type": "markdown",
   "metadata": {
    "collapsed": true
   },
   "source": [
    "## Decorators"
   ]
  },
  {
   "cell_type": "markdown",
   "metadata": {
    "collapsed": true
   },
   "source": [
    "In Python, decorators are used to alter callables; closures allow for the creation of decorators.  Functions and methods are the two types of callables that are most often decorated in Python.\n",
    "\n",
    "Here is a decorator that prints the function name before and after it decorates it."
   ]
  },
  {
   "cell_type": "code",
   "execution_count": 28,
   "metadata": {
    "collapsed": false
   },
   "outputs": [],
   "source": [
    "def verbose(func):\n",
    "    def wrapper(*args, **kwargs):\n",
    "        print 'Before', func.__name__\n",
    "        result = func(*args, **kwargs)\n",
    "        print 'After', func.__name__\n",
    "        return result\n",
    "    return wrapper\n",
    "    "
   ]
  },
  {
   "cell_type": "code",
   "execution_count": 20,
   "metadata": {
    "collapsed": true
   },
   "outputs": [],
   "source": [
    "def hello():\n",
    "    print 'hello'"
   ]
  },
  {
   "cell_type": "code",
   "execution_count": 22,
   "metadata": {
    "collapsed": true
   },
   "outputs": [],
   "source": [
    "# redefines hello as verbose called with hello\n",
    "hello = verbose(hello)"
   ]
  },
  {
   "cell_type": "code",
   "execution_count": 24,
   "metadata": {
    "collapsed": false
   },
   "outputs": [
    {
     "name": "stdout",
     "output_type": "stream",
     "text": [
      "Before hello\n",
      "hello\n",
      "After hello\n"
     ]
    }
   ],
   "source": [
    "hello()"
   ]
  },
  {
   "cell_type": "code",
   "execution_count": 17,
   "metadata": {
    "collapsed": false
   },
   "outputs": [
    {
     "name": "stdout",
     "output_type": "stream",
     "text": [
      "Before whatsup\n",
      "Whats up dude?\n",
      "After whatsup\n"
     ]
    }
   ],
   "source": [
    "# syntatic sugar for defining decorators\n",
    "\n",
    "@verbose\n",
    "def whatsup():\n",
    "    print 'Whats up dude?'\n",
    "    \n",
    "whatsup()"
   ]
  },
  {
   "cell_type": "code",
   "execution_count": 29,
   "metadata": {
    "collapsed": false
   },
   "outputs": [
    {
     "name": "stdout",
     "output_type": "stream",
     "text": [
      "Before whatsup\n",
      "Whats up tyler?\n",
      "After whatsup\n"
     ]
    }
   ],
   "source": [
    "@verbose\n",
    "def whatsup(name):\n",
    "    print 'Whats up {}?'.format(name)\n",
    "    \n",
    "whatsup('tyler')"
   ]
  },
  {
   "cell_type": "code",
   "execution_count": null,
   "metadata": {
    "collapsed": true
   },
   "outputs": [],
   "source": []
  },
  {
   "cell_type": "code",
   "execution_count": 42,
   "metadata": {
    "collapsed": true
   },
   "outputs": [],
   "source": [
    "#time example\n",
    "\n",
    "import datetime\n",
    "\n",
    "\n",
    "def timer(func):\n",
    "    def wrapper(*args, **kwargs):\n",
    "        start_time = datetime.datetime.now().now()\n",
    "        print 'Starting execution'\n",
    "        result = func(*args, **kwargs)\n",
    "        end_time = datetime.datetime.now().now()\n",
    "        print 'Ending execution'\n",
    "        time_diff = start_time - end_time\n",
    "        print 'This function took {} to execute'.format(time_diff.total_seconds() / 60)\n",
    "        return result\n",
    "    return wrapper\n",
    "    \n",
    "        "
   ]
  },
  {
   "cell_type": "code",
   "execution_count": 3,
   "metadata": {
    "collapsed": false
   },
   "outputs": [
    {
     "data": {
      "text/plain": [
       "164"
      ]
     },
     "execution_count": 3,
     "metadata": {},
     "output_type": "execute_result"
    }
   ],
   "source": [
    "def add100(num):\n",
    "    return num + 100\n",
    "\n",
    "add100(64)"
   ]
  },
  {
   "cell_type": "code",
   "execution_count": 46,
   "metadata": {
    "collapsed": false
   },
   "outputs": [
    {
     "name": "stdout",
     "output_type": "stream",
     "text": [
      "Starting execution\n",
      "164\n",
      "Ending execution\n",
      "This function took -6.55e-06 to execute\n"
     ]
    }
   ],
   "source": [
    "@timer\n",
    "def add100(num):\n",
    "    print num + 100\n",
    "\n",
    "add100(64)"
   ]
  },
  {
   "cell_type": "code",
   "execution_count": 48,
   "metadata": {
    "collapsed": false
   },
   "outputs": [
    {
     "name": "stdout",
     "output_type": "stream",
     "text": [
      "Starting execution\n",
      "351000\n",
      "Ending execution\n",
      "This function took -6.16666666667e-06 to execute\n"
     ]
    }
   ],
   "source": [
    "@timer\n",
    "def printer(x,y,w):\n",
    "    print x * y * w\n",
    "\n",
    "printer(130,90,30)"
   ]
  },
  {
   "cell_type": "code",
   "execution_count": 11,
   "metadata": {
    "collapsed": false
   },
   "outputs": [
    {
     "data": {
      "text/plain": [
       "<function __main__.timer>"
      ]
     },
     "execution_count": 11,
     "metadata": {},
     "output_type": "execute_result"
    }
   ],
   "source": []
  },
  {
   "cell_type": "code",
   "execution_count": null,
   "metadata": {
    "collapsed": true
   },
   "outputs": [],
   "source": [
    "#login example"
   ]
  }
 ],
 "metadata": {
  "kernelspec": {
   "display_name": "Python 2",
   "language": "python",
   "name": "python2"
  },
  "language_info": {
   "codemirror_mode": {
    "name": "ipython",
    "version": 2
   },
   "file_extension": ".py",
   "mimetype": "text/x-python",
   "name": "python",
   "nbconvert_exporter": "python",
   "pygments_lexer": "ipython2",
   "version": "2.7.12"
  }
 },
 "nbformat": 4,
 "nbformat_minor": 1
}
